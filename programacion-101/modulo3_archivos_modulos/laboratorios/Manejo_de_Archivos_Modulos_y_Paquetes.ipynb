{
  "nbformat": 4,
  "nbformat_minor": 0,
  "metadata": {
    "colab": {
      "provenance": [],
      "include_colab_link": true
    },
    "kernelspec": {
      "name": "python3",
      "display_name": "Python 3"
    },
    "language_info": {
      "name": "python"
    }
  },
  "cells": [
    {
      "cell_type": "markdown",
      "metadata": {
        "id": "view-in-github",
        "colab_type": "text"
      },
      "source": [
        "<a href=\"https://colab.research.google.com/github/danielutec/2025_UTEC_PROGRAM_101/blob/main/programacion-101/modulo3_archivos_modulos/laboratorios/Manejo_de_Archivos_Modulos_y_Paquetes.ipynb\" target=\"_parent\"><img src=\"https://colab.research.google.com/assets/colab-badge.svg\" alt=\"Open In Colab\"/></a>"
      ]
    },
    {
      "cell_type": "markdown",
      "source": [
        "<img src=\"https://posgrado.utec.edu.pe/sites/default/files/2023-08/Testimonial-home-2.jpg\" alt=\"HTML5 Icon\" width=\"900\" height=\"250\" >\n"
      ],
      "metadata": {
        "id": "VpH7sAoVTmos"
      }
    },
    {
      "cell_type": "markdown",
      "source": [
        "# **Funciones y Clases**"
      ],
      "metadata": {
        "id": "Y7FbnZbKTpRn"
      }
    },
    {
      "cell_type": "markdown",
      "source": [
        "**Objetivo**\n",
        "\n",
        "Consolidar los conocimientos sobre funciones y clases en Python, mediante el desarrollo de teoría, ejemplos guiados y ejercicios retadores. Al finalizar, serás capaz de:\n",
        "\n",
        "1. Comprender qué son las funciones, cómo se definen y cómo se utilizan.\n",
        "2. Usar distintos tipos de argumentos (posicionales, por nombre, arbitrarios).\n",
        "3. Retornar valores simples o compuestos desde una función.\n",
        "4. Aplicar funciones sobre listas y modularizar código en módulos.\n",
        "5. Documentar y estructurar funciones siguiendo buenas prácticas de estilo.\n",
        "6. Crear clases, instanciar objetos, y trabajar con atributos y métodos.\n",
        "7. Aplicar principios de herencia y reutilización de código en clases.\n",
        "8. Utilizar la biblioteca estándar de Python y organizar clases en módulos."
      ],
      "metadata": {
        "id": "34pdCtM-T-QQ"
      }
    },
    {
      "cell_type": "markdown",
      "source": [
        "# Funciones"
      ],
      "metadata": {
        "id": "aLMAo_QGWh_5"
      }
    },
    {
      "cell_type": "markdown",
      "source": [
        "## 1. Defining a Function"
      ],
      "metadata": {
        "id": "u5oSkRxxTwLx"
      }
    },
    {
      "cell_type": "markdown",
      "source": [
        "- Las funciones encapsulan código reutilizable.\n",
        "- Se definen usando 'def' seguido de un nombre y paréntesis.\n",
        "- El cuerpo debe estar indentado."
      ],
      "metadata": {
        "id": "rMx8aaViUPkk"
      }
    },
    {
      "cell_type": "markdown",
      "source": [
        "**Ejemplo:**\n"
      ],
      "metadata": {
        "id": "dHTMVPmOUSIV"
      }
    },
    {
      "cell_type": "code",
      "execution_count": null,
      "metadata": {
        "id": "ONvTKb-GThia"
      },
      "outputs": [],
      "source": [
        "def saludar():\n",
        "    print(\"Bienvenido al laboratorio de funciones.\")\n"
      ]
    },
    {
      "cell_type": "markdown",
      "source": [
        "**Ejercicios:**\n",
        "\n",
        "1. Crea una función 'mostrar_menu()' que imprima un menú con 3 opciones.\n",
        "\n",
        "2. Define una función 'mensaje_diario()' que imprima una frase aleatoria de motivación.\n",
        "\n",
        "3. Crea una función 'borde_decorativo()' que imprima una cadena rodeada de asteriscos."
      ],
      "metadata": {
        "id": "JIvRAXycUX7u"
      }
    },
    {
      "cell_type": "code",
      "source": [
        "#ejercicio 1\n",
        "def mostrar_menu():\n",
        "    print(\"Menú:\")\n",
        "    print(\"1. Opción 1\")\n",
        "    print(\"2. Opción 2\")\n",
        "    print(\"3. Opción 3\")\n",
        "mostrar_menu()"
      ],
      "metadata": {
        "id": "M6EZHQLLUl0t",
        "colab": {
          "base_uri": "https://localhost:8080/"
        },
        "outputId": "1231b2f1-99ea-451c-e941-cab03c700698"
      },
      "execution_count": 1,
      "outputs": [
        {
          "output_type": "stream",
          "name": "stdout",
          "text": [
            "Menú:\n",
            "1. Opción 1\n",
            "2. Opción 2\n",
            "3. Opción 3\n"
          ]
        }
      ]
    },
    {
      "cell_type": "code",
      "source": [
        "#ejercicio 2\n",
        "import random\n",
        "\n",
        "def mensaje_diario():\n",
        "    frases = [\n",
        "        \"La única forma de hacer un gran trabajo es amar lo que haces.\",\n",
        "        \"El éxito es la suma de pequeños esfuerzos repetidos día tras día.\",\n",
        "        \"No importa lo lento que vayas, siempre y cuando no te detengas.\"\n",
        "    ]\n",
        "    print(random.choice(frases))\n",
        "\n",
        "mensaje_diario()"
      ],
      "metadata": {
        "colab": {
          "base_uri": "https://localhost:8080/"
        },
        "id": "IP_JQYNVfTBA",
        "outputId": "da5326b3-73fb-4771-f7d6-aaa92d77b448"
      },
      "execution_count": 24,
      "outputs": [
        {
          "output_type": "stream",
          "name": "stdout",
          "text": [
            "El éxito es la suma de pequeños esfuerzos repetidos día tras día.\n"
          ]
        }
      ]
    },
    {
      "cell_type": "code",
      "source": [
        "# ejercicio 3\n",
        "def borde_decorativo(cadena):\n",
        "    longitud = len(cadena)\n",
        "    print(\"*\" * (longitud + 4))\n",
        "    print(f\"* {cadena} *\")\n",
        "    print(\"*\" * (longitud + 4))\n"
      ],
      "metadata": {
        "id": "hLCmnpXjf85H"
      },
      "execution_count": 23,
      "outputs": []
    },
    {
      "cell_type": "markdown",
      "source": [
        "## 2. Passing Arguments"
      ],
      "metadata": {
        "id": "wMZPUnXIUljj"
      }
    },
    {
      "cell_type": "code",
      "source": [],
      "metadata": {
        "id": "GVFLHbSLgTc9"
      },
      "execution_count": null,
      "outputs": []
    },
    {
      "cell_type": "markdown",
      "source": [
        "- Puedes pasar información a las funciones mediante parámetros.\n",
        "- Argumentos posicionales: el orden importa.\n",
        "- Argumentos por nombre (keyword arguments): más claros y seguros."
      ],
      "metadata": {
        "id": "gqKGi2gtUp_O"
      }
    },
    {
      "cell_type": "markdown",
      "source": [
        "**Ejemplo:**"
      ],
      "metadata": {
        "id": "gJ9SfvF8Ur7M"
      }
    },
    {
      "cell_type": "code",
      "source": [
        "def presentar(nombre, edad):\n",
        "    print(f\"Hola, soy {nombre} y tengo {edad} años.\")"
      ],
      "metadata": {
        "id": "L6a58TgAUtFJ"
      },
      "execution_count": null,
      "outputs": []
    },
    {
      "cell_type": "markdown",
      "source": [
        "**Ejercicios:**\n",
        "\n",
        "1. Define 'calcular_impuesto(monto, tasa)' que retorne el impuesto total.\n",
        "\n",
        "2. Crea 'evaluar_puntaje(nombre, puntaje)' que imprima si aprueba (>=12) o no.\n",
        "\n",
        "3. Escribe 'detallar_producto(nombre, precio, stock)' que imprima un resumen."
      ],
      "metadata": {
        "id": "vyHEcaizVBi7"
      }
    },
    {
      "cell_type": "code",
      "source": [
        "def calcular_impuesto(monto, tasa):\n",
        "    return monto * tasa\n",
        "print(calcular_impuesto(100, 0.18))"
      ],
      "metadata": {
        "id": "vlOv7cpSVOCO",
        "colab": {
          "base_uri": "https://localhost:8080/"
        },
        "outputId": "d45554aa-e8cc-4f20-a64f-a6624025e91e"
      },
      "execution_count": 31,
      "outputs": [
        {
          "output_type": "stream",
          "name": "stdout",
          "text": [
            "18.0\n"
          ]
        }
      ]
    },
    {
      "cell_type": "markdown",
      "source": [
        "## 3. Return Values"
      ],
      "metadata": {
        "id": "fyNSml7GVP1Y"
      }
    },
    {
      "cell_type": "markdown",
      "source": [
        "- Las funciones pueden devolver valores con 'return'.\n",
        "- Es útil para guardar o reutilizar resultados."
      ],
      "metadata": {
        "id": "VkdpHBVfVTH1"
      }
    },
    {
      "cell_type": "markdown",
      "source": [
        "**Ejemplo:**\n"
      ],
      "metadata": {
        "id": "4xZ4orNzVVBT"
      }
    },
    {
      "cell_type": "code",
      "source": [
        "def cuadrado(numero):\n",
        "    return numero ** 2"
      ],
      "metadata": {
        "id": "-bVDPbECVWaa"
      },
      "execution_count": null,
      "outputs": []
    },
    {
      "cell_type": "markdown",
      "source": [
        "**Ejercicios:**\n",
        "\n",
        "1. 'diferencia_absoluta(a, b)' que retorne el valor absoluto de su diferencia.\n",
        "\n",
        "2. 'comparar_cadenas(cad1, cad2)' que retorne True si tienen la misma longitud.\n",
        "\n",
        "3. 'es_primo(n)' que retorne True si el número es primo."
      ],
      "metadata": {
        "id": "tlMLYSgJVZ0b"
      }
    },
    {
      "cell_type": "code",
      "source": [
        "def diferencia_absoluta(a, b):\n",
        "    return abs(a - b)\n",
        "print(diferencia_absoluta(5, 10))"
      ],
      "metadata": {
        "id": "jwdBX6VeVhVL",
        "colab": {
          "base_uri": "https://localhost:8080/"
        },
        "outputId": "200374f6-a8d4-400a-9345-a3132fb3879f"
      },
      "execution_count": 35,
      "outputs": [
        {
          "output_type": "stream",
          "name": "stdout",
          "text": [
            "5\n"
          ]
        }
      ]
    },
    {
      "cell_type": "code",
      "source": [
        "def comparar_cadenas(cad1, cad2):\n",
        "    return len(cad1) == len(cad2)\n",
        "print(comparar_cadenas(\"prueba\", \"resultado\"))"
      ],
      "metadata": {
        "id": "5PRmm01HlN5D",
        "outputId": "04e5673e-771f-442c-fa36-b98675d2a194",
        "colab": {
          "base_uri": "https://localhost:8080/"
        }
      },
      "execution_count": 36,
      "outputs": [
        {
          "output_type": "stream",
          "name": "stdout",
          "text": [
            "False\n"
          ]
        }
      ]
    },
    {
      "cell_type": "code",
      "source": [
        "import math\n",
        "\n",
        "def es_primo(n):\n",
        "\n",
        "    if n <= 1:\n",
        "        return False\n",
        "    if n == 2:\n",
        "        return True\n",
        "    # Cualquier otro número par mayor que 2 no es primo\n",
        "    if n % 2 == 0:\n",
        "        return False\n",
        "    # Verificar divisores impares desde 3 hasta la raíz cuadrada de n\n",
        "    # Solo necesitamos verificar hasta la raíz cuadrada porque si n tiene un\n",
        "    # divisor mayor que su raíz cuadrada, también debe tener uno menor.\n",
        "    for i in range(3, int(math.sqrt(n)) + 1, 2):\n",
        "        if n % i == 0:\n",
        "            return False\n",
        "    # Si no se encontraron divisores, el número es primo\n",
        "    return True\n",
        "\n",
        "print(es_primo(9))\n",
        "print(es_primo(7))\n",
        "print(es_primo(2))\n",
        "print(es_primo(4))\n",
        "print(es_primo(1))\n",
        "print(es_primo(17))\n",
        "print(es_primo(25))\n"
      ],
      "metadata": {
        "id": "frCVnVPylc-b",
        "outputId": "2e04de4f-257f-4b3c-af07-b497a7da7e89",
        "colab": {
          "base_uri": "https://localhost:8080/"
        }
      },
      "execution_count": 41,
      "outputs": [
        {
          "output_type": "stream",
          "name": "stdout",
          "text": [
            "False\n",
            "True\n",
            "True\n",
            "False\n",
            "False\n",
            "True\n",
            "False\n"
          ]
        }
      ]
    },
    {
      "cell_type": "code",
      "source": [
        "# prompt: mejorar el codigo:def es_primo(n):\n",
        "#     if n <= 1:\n",
        "#         return False\n",
        "#     for i in range(2, int(n**0.5) + 1):\n",
        "#         if n % i == 0:\n",
        "#             return False\n",
        "#     return True\n",
        "# print(es_primo(9))\n",
        "\n",
        "import math\n",
        "\n",
        "def es_primo(n):\n",
        "    \"\"\"\n",
        "    Verifica si un número es primo.\n",
        "\n",
        "    Argumentos:\n",
        "        n: Un número entero.\n",
        "\n",
        "    Retorna:\n",
        "        True si el número es primo, False en caso contrario.\n",
        "    \"\"\"\n",
        "    # Los números menores o iguales a 1 no son primos\n",
        "    if n <= 1:\n",
        "        return False\n",
        "    # El número 2 es el único primo par\n",
        "    if n == 2:\n",
        "        return True\n",
        "    # Cualquier otro número par mayor que 2 no es primo\n",
        "    if n % 2 == 0:\n",
        "        return False\n",
        "    # Verificar divisores impares desde 3 hasta la raíz cuadrada de n\n",
        "    # Solo necesitamos verificar hasta la raíz cuadrada porque si n tiene un\n",
        "    # divisor mayor que su raíz cuadrada, también debe tener uno menor.\n",
        "    for i in range(3, int(math.sqrt(n)) + 1, 2):\n",
        "        if n % i == 0:\n",
        "            return False\n",
        "    # Si no se encontraron divisores, el número es primo\n",
        "    return True\n",
        "\n",
        "print(es_primo(9))\n",
        "print(es_primo(7))\n",
        "print(es_primo(2))\n",
        "print(es_primo(4))\n",
        "print(es_primo(1))\n",
        "print(es_primo(17))\n",
        "print(es_primo(25))\n"
      ],
      "metadata": {
        "id": "QRh38aeJmhUU"
      },
      "execution_count": null,
      "outputs": []
    },
    {
      "cell_type": "markdown",
      "source": [
        "## 4. Passing a List"
      ],
      "metadata": {
        "id": "pltHrWQ9Vg8k"
      }
    },
    {
      "cell_type": "markdown",
      "source": [
        "- Las funciones pueden recibir listas para iterar, modificar o procesar.\n"
      ],
      "metadata": {
        "id": "jtrh3ce9Vjze"
      }
    },
    {
      "cell_type": "markdown",
      "source": [
        "**Ejemplo:**"
      ],
      "metadata": {
        "id": "uqslCsi8VnkE"
      }
    },
    {
      "cell_type": "code",
      "source": [
        "def imprimir_nombres(lista):\n",
        "    for nombre in lista:\n",
        "        print(f\"- {nombre}\")"
      ],
      "metadata": {
        "id": "quUt25oSVmwn"
      },
      "execution_count": 49,
      "outputs": []
    },
    {
      "cell_type": "markdown",
      "source": [
        "**Ejercicios:**\n",
        "\n",
        "1. 'invertir_lista(lista)' que retorne la lista invertida.\n",
        "\n",
        "2. 'sumar_pares(lista)' que sume solo los números pares.\n",
        "\n",
        "3. 'normalizar_textos(lista)' que convierta todo texto a minúsculas y sin espacios."
      ],
      "metadata": {
        "id": "IsvUCmvvVrAh"
      }
    },
    {
      "cell_type": "code",
      "source": [
        "def invertir_lista(lista):\n",
        "    return lista[::-1]\n",
        "\n",
        "invertir_lista([1, 2, 3, 4, 5])"
      ],
      "metadata": {
        "id": "dhOY2x9Zq92_",
        "outputId": "5f9e1f95-19ee-4515-8444-59555b64ec05",
        "colab": {
          "base_uri": "https://localhost:8080/"
        }
      },
      "execution_count": 61,
      "outputs": [
        {
          "output_type": "execute_result",
          "data": {
            "text/plain": [
              "[5, 4, 3, 2, 1]"
            ]
          },
          "metadata": {},
          "execution_count": 61
        }
      ]
    },
    {
      "cell_type": "code",
      "source": [
        "def sumar_pares(lista):\n",
        "    suma = 0\n",
        "    for numero in lista:\n",
        "        if numero % 2 == 0:\n",
        "            suma += numero\n",
        "    return suma"
      ],
      "metadata": {
        "id": "iQM3kS1hrWps"
      },
      "execution_count": 54,
      "outputs": []
    },
    {
      "cell_type": "code",
      "source": [
        "def normalizar_textos(lista):\n",
        "    normalizados = []\n",
        "    for texto in lista:\n",
        "        normalizado = texto.lower().replace(\" \", \"\")\n",
        "        normalizados.append(normalizado)\n",
        "    return normalizados"
      ],
      "metadata": {
        "id": "CEL6QNMar8xe"
      },
      "execution_count": 55,
      "outputs": []
    },
    {
      "cell_type": "markdown",
      "source": [
        "## 5. Passing Arbitrary Number of Arguments\n"
      ],
      "metadata": {
        "id": "d8BRZt95VyWp"
      }
    },
    {
      "cell_type": "markdown",
      "source": [
        "- *args permite recibir cualquier número de argumentos posicionales.\n",
        "- **kwargs permite recibir pares clave-valor (keyword args)."
      ],
      "metadata": {
        "id": "kKvjnskFV09D"
      }
    },
    {
      "cell_type": "markdown",
      "source": [
        "**Ejemplo:**"
      ],
      "metadata": {
        "id": "1OUZd86jV3Bd"
      }
    },
    {
      "cell_type": "code",
      "source": [
        "def sumar_todo(*numeros):\n",
        "    return sum(numeros)"
      ],
      "metadata": {
        "id": "vDW2boqYV4Wo"
      },
      "execution_count": null,
      "outputs": []
    },
    {
      "cell_type": "markdown",
      "source": [
        "**Ejercicios:**\n",
        "\n",
        "1. 'registrar_evento(nombre, *participantes)' que imprima el evento y los asistentes.\n",
        "\n",
        "2. 'generar_reporte(**datos)' que imprima claves y valores con formato.\n",
        "\n",
        "3. 'concatenar_textos(*cadenas)' que retorne el texto unificado, separado por guiones."
      ],
      "metadata": {
        "id": "_mXSkDMEV8UN"
      }
    },
    {
      "cell_type": "code",
      "source": [
        "def registrar_evento(nombre, *participantes):\n",
        "    print(f\"Registo de evento: {nombre}\")\n",
        "    print(\"Asistentes:\")\n",
        "    for participante in participantes:\n",
        "        print(f\"- {participante}\")\n",
        "\n",
        "\n",
        "registrar_evento(\"Conferencia Python\", \"Juan\", \"María\", \"Pedro\")\n"
      ],
      "metadata": {
        "id": "aKkaSEnfWAWR",
        "colab": {
          "base_uri": "https://localhost:8080/"
        },
        "outputId": "3654362d-2858-47e3-ef8d-8bd1648d8086"
      },
      "execution_count": 88,
      "outputs": [
        {
          "output_type": "stream",
          "name": "stdout",
          "text": [
            "Registo de evento: Conferencia Python\n",
            "Asistentes:\n",
            "- Juan\n",
            "- María\n",
            "- Pedro\n"
          ]
        }
      ]
    },
    {
      "cell_type": "code",
      "source": [
        "def generar_reporte(**datos):\n",
        "    for clave, valor in datos.items():\n",
        "        return(f\"{clave}: {valor}\")\n",
        "\n",
        "\n",
        "generar_reporte(nombre=\"Daniel\", edad=34, ciudad=\"Lima\")"
      ],
      "metadata": {
        "id": "KWsLrDKx2inr",
        "outputId": "e9d1f9b4-9535-4ffa-8775-2a7feee198d5",
        "colab": {
          "base_uri": "https://localhost:8080/",
          "height": 35
        }
      },
      "execution_count": 89,
      "outputs": [
        {
          "output_type": "execute_result",
          "data": {
            "text/plain": [
              "'nombre: Daniel'"
            ],
            "application/vnd.google.colaboratory.intrinsic+json": {
              "type": "string"
            }
          },
          "metadata": {},
          "execution_count": 89
        }
      ]
    },
    {
      "cell_type": "code",
      "source": [
        "def concatenar_textos(*cadenas):\n",
        "    return \"-\".join(cadenas)\n",
        "\n",
        "\n",
        "concatenar_textos(\"Clase\", \"101\", \"Python\")"
      ],
      "metadata": {
        "id": "MDj89V4-2oJw",
        "outputId": "4a8a1081-0560-4f78-b4a1-71ca73120685",
        "colab": {
          "base_uri": "https://localhost:8080/",
          "height": 35
        }
      },
      "execution_count": 90,
      "outputs": [
        {
          "output_type": "execute_result",
          "data": {
            "text/plain": [
              "'Clase-101-Python'"
            ],
            "application/vnd.google.colaboratory.intrinsic+json": {
              "type": "string"
            }
          },
          "metadata": {},
          "execution_count": 90
        }
      ]
    },
    {
      "cell_type": "markdown",
      "source": [
        "## 6. Storing Functions in Modules"
      ],
      "metadata": {
        "id": "jtSzw0j4WDO1"
      }
    },
    {
      "cell_type": "markdown",
      "source": [
        "- Guardar funciones en archivos .py permite modularidad y reutilización.\n",
        "- Luego se importa el archivo usando 'import'."
      ],
      "metadata": {
        "id": "x92n04kVWFvb"
      }
    },
    {
      "cell_type": "markdown",
      "source": [
        "**Ejemplo (módulo: utilidades.py):**"
      ],
      "metadata": {
        "id": "m0OytKHeWKpG"
      }
    },
    {
      "cell_type": "code",
      "source": [
        "# def saludar():\n",
        "#     print(\"Hola desde utilidades\")\n",
        "#\n",
        "# En main.py:\n",
        "# import utilidades\n",
        "# utilidades.saludar()"
      ],
      "metadata": {
        "id": "TvpqNFZrWIql"
      },
      "execution_count": null,
      "outputs": []
    },
    {
      "cell_type": "markdown",
      "source": [
        "**Ejercicios:**\n",
        "\n",
        "1. Crea un módulo 'texto_utils.py' con funciones para contar palabras, quitar tildes y convertir a minúsculas.\n",
        "\n",
        "2. Crea un módulo 'calculadora.py' con funciones básicas y una función especial: factorial.\n",
        "\n",
        "3. Importa y usa ambos módulos en un script principal."
      ],
      "metadata": {
        "id": "x8q9ucUCWP0Q"
      }
    },
    {
      "cell_type": "code",
      "source": [],
      "metadata": {
        "id": "85vCyvMOWOsT"
      },
      "execution_count": null,
      "outputs": []
    },
    {
      "cell_type": "markdown",
      "source": [
        "# Clases"
      ],
      "metadata": {
        "id": "7l-hr6DcWgdN"
      }
    },
    {
      "cell_type": "markdown",
      "source": [
        "## 1. Creating and Using a Class"
      ],
      "metadata": {
        "id": "9Sl8DOmmXMaw"
      }
    },
    {
      "cell_type": "markdown",
      "source": [
        "- Las clases son plantillas para crear objetos.\n",
        "- Usan __init__() para inicializar atributos."
      ],
      "metadata": {
        "id": "PnfwiJaaXOqM"
      }
    },
    {
      "cell_type": "markdown",
      "source": [
        "**Ejemplo:**\n"
      ],
      "metadata": {
        "id": "E1P_UQ6YXQhz"
      }
    },
    {
      "cell_type": "code",
      "source": [
        "class Persona:\n",
        "    def __init__(self, nombre, edad):\n",
        "        self.nombre = nombre\n",
        "        self.edad = edad\n",
        "\n",
        "    def saludar(self):\n",
        "        print(f\"Hola, soy {self.nombre}.\")"
      ],
      "metadata": {
        "id": "FxZIxKxXXTbu"
      },
      "execution_count": null,
      "outputs": []
    },
    {
      "cell_type": "markdown",
      "source": [
        "**Ejercicios:**\n",
        "\n",
        "1. Crea la clase 'Libro' con atributos titulo, autor y año.\n",
        "\n",
        "2. Crea 'CuentaBancaria' con saldo inicial y métodos para depositar y retirar.\n",
        "\n",
        "3. Define 'Pelicula' con método 'resumen()' que imprima una sinopsis."
      ],
      "metadata": {
        "id": "ylthqvSRXVtQ"
      }
    },
    {
      "cell_type": "code",
      "source": [],
      "metadata": {
        "id": "C_tqThPaXasA"
      },
      "execution_count": null,
      "outputs": []
    },
    {
      "cell_type": "markdown",
      "source": [
        "## 2. Working with Classes and Instances"
      ],
      "metadata": {
        "id": "mtIfxNHdXbnl"
      }
    },
    {
      "cell_type": "markdown",
      "source": [
        "- Cada objeto instanciado es independiente.\n",
        "- Puedes modificar atributos directamente o con métodos."
      ],
      "metadata": {
        "id": "L16QES7wXeqt"
      }
    },
    {
      "cell_type": "markdown",
      "source": [
        "**Ejemplo:**\n"
      ],
      "metadata": {
        "id": "8OxEe0U2XhhR"
      }
    },
    {
      "cell_type": "code",
      "source": [
        "juan = Persona(\"Juan\", 28)\n",
        "juan.saludar()"
      ],
      "metadata": {
        "id": "Wv8s90KeXjsA"
      },
      "execution_count": null,
      "outputs": []
    },
    {
      "cell_type": "markdown",
      "source": [
        "**Ejercicios:**\n",
        "\n",
        "1. Crea múltiples instancias de una clase 'Jugador' y cámbiales puntaje.\n",
        "\n",
        "2. Añade un método 'actualizar_email' a una clase 'Usuario'.\n",
        "\n",
        "3. Añade método 'subir_nivel()' que incremente un atributo nivel."
      ],
      "metadata": {
        "id": "tcnWv2HXXkPZ"
      }
    },
    {
      "cell_type": "code",
      "source": [],
      "metadata": {
        "id": "5sRPt7_5Xq4C"
      },
      "execution_count": null,
      "outputs": []
    },
    {
      "cell_type": "markdown",
      "source": [
        "## 3. Inheritance"
      ],
      "metadata": {
        "id": "oIg5A5egXrPJ"
      }
    },
    {
      "cell_type": "markdown",
      "source": [
        "- Las clases pueden heredar atributos y métodos de otras.\n",
        "- La subclase puede extender o sobreescribir métodos."
      ],
      "metadata": {
        "id": "Cz1HHIqBXt9b"
      }
    },
    {
      "cell_type": "markdown",
      "source": [
        "**Ejemplo:**"
      ],
      "metadata": {
        "id": "5-m40bQOXwaI"
      }
    },
    {
      "cell_type": "code",
      "source": [
        "class Animal:\n",
        "    def __init__(self, especie):\n",
        "        self.especie = especie\n",
        "\n",
        "    def hablar(self):\n",
        "        print(\"Este animal hace un sonido\")\n",
        "\n",
        "class Perro(Animal):\n",
        "    def hablar(self):\n",
        "        print(\"Guau\")"
      ],
      "metadata": {
        "id": "5EPTKxOsXukH"
      },
      "execution_count": null,
      "outputs": []
    },
    {
      "cell_type": "markdown",
      "source": [
        "**Ejercicios:**\n",
        "\n",
        "1. Crea 'Empleado' y 'Gerente' que herede e incluya equipo a cargo.\n",
        "\n",
        "2. Crea 'Vehiculo' y subclases 'Auto', 'Moto', con métodos específicos.\n",
        "\n",
        "3. 'Cuenta' y subclases 'CuentaAhorro', 'CuentaCorriente' con comisiones."
      ],
      "metadata": {
        "id": "zuD1o50LX2ao"
      }
    },
    {
      "cell_type": "code",
      "source": [],
      "metadata": {
        "id": "qx2aPbmQX54_"
      },
      "execution_count": null,
      "outputs": []
    },
    {
      "cell_type": "markdown",
      "source": [
        "## 4. Importing Classes"
      ],
      "metadata": {
        "id": "S316TViTX-kr"
      }
    },
    {
      "cell_type": "markdown",
      "source": [
        "- Puedes importar clases específicas con 'from modulo import Clase'.\n"
      ],
      "metadata": {
        "id": "M2CBMnsjYAt_"
      }
    },
    {
      "cell_type": "markdown",
      "source": [
        "**Ejemplo:**\n",
        "\n",
        "from persona import Persona\n"
      ],
      "metadata": {
        "id": "vezz8XZhYELW"
      }
    },
    {
      "cell_type": "markdown",
      "source": [
        "**Ejercicios:**\n",
        "\n",
        "1. Guarda tu clase 'Libro' en un archivo y úsala desde otro script.\n",
        "\n",
        "2. Importa múltiples clases desde un solo módulo.\n",
        "\n",
        "3. Reorganiza tu código en paquetes (carpetas con __init__.py)."
      ],
      "metadata": {
        "id": "J42HjMtBYGov"
      }
    },
    {
      "cell_type": "code",
      "source": [],
      "metadata": {
        "id": "qAyHLysLYQKS"
      },
      "execution_count": null,
      "outputs": []
    },
    {
      "cell_type": "markdown",
      "source": [
        "## 5. The Python Standard Library\n"
      ],
      "metadata": {
        "id": "EIQGzTKYYWJN"
      }
    },
    {
      "cell_type": "markdown",
      "source": [
        "- La biblioteca estándar incluye módulos como random, datetime, os, math.\n"
      ],
      "metadata": {
        "id": "eNPMxa25YZIu"
      }
    },
    {
      "cell_type": "markdown",
      "source": [
        "**Ejemplo:**\n",
        "\n"
      ],
      "metadata": {
        "id": "2CyC8dUKYdaI"
      }
    },
    {
      "cell_type": "code",
      "source": [
        "import random\n",
        "print(random.randint(1, 10))"
      ],
      "metadata": {
        "id": "0NHr99hBYlO-"
      },
      "execution_count": null,
      "outputs": []
    },
    {
      "cell_type": "markdown",
      "source": [
        "**Ejercicios:**\n",
        "\n",
        "1. Usa datetime para imprimir la fecha de nacimiento a partir de edad.\n",
        "\n",
        "2. Usa os para listar todos los archivos de un directorio.\n",
        "\n",
        "3. Usa math para resolver la fórmula cuadrática."
      ],
      "metadata": {
        "id": "GSddpGVvYfB9"
      }
    },
    {
      "cell_type": "markdown",
      "source": [
        "---\n",
        "\n",
        "# Gracias por completar este laboratorio!\n",
        "\n",
        "---\n"
      ],
      "metadata": {
        "id": "AFdUbz_9XDVM"
      }
    }
  ]
}