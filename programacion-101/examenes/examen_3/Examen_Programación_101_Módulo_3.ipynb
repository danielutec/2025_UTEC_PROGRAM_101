{
  "nbformat": 4,
  "nbformat_minor": 0,
  "metadata": {
    "colab": {
      "provenance": [],
      "include_colab_link": true
    },
    "kernelspec": {
      "name": "python3",
      "display_name": "Python 3"
    },
    "language_info": {
      "name": "python"
    }
  },
  "cells": [
    {
      "cell_type": "markdown",
      "metadata": {
        "id": "view-in-github",
        "colab_type": "text"
      },
      "source": [
        "<a href=\"https://colab.research.google.com/github/danielutec/2025_UTEC_PROGRAM_101/blob/main/programacion-101/examenes/examen_3/Examen_Programaci%C3%B3n_101_M%C3%B3dulo_3.ipynb\" target=\"_parent\"><img src=\"https://colab.research.google.com/assets/colab-badge.svg\" alt=\"Open In Colab\"/></a>"
      ]
    },
    {
      "cell_type": "markdown",
      "source": [
        "<img src=\"https://posgrado.utec.edu.pe/sites/default/files/2023-08/Testimonial-home-2.jpg\" alt=\"HTML5 Icon\" width=\"900\" height=\"250\" >"
      ],
      "metadata": {
        "id": "F0pagrVwedlT"
      }
    },
    {
      "cell_type": "markdown",
      "source": [
        "#**Examen Programación 101 – Módulo 3**"
      ],
      "metadata": {
        "id": "n0QIu7WQMANP"
      }
    },
    {
      "cell_type": "markdown",
      "source": [
        "**Contexto:**\n",
        "\n",
        "Estás colaborando con un equipo de analistas que trabaja en el diseño de herramientas básicas para preparar, limpiar y analizar datos antes de que sean utilizados por científicos de datos. Estas herramientas deben ejecutarse en entornos controlados, sin acceso a librerías externas y con requisitos mínimos de procesamiento.\n",
        "\n",
        "Cada ejercicio del examen representa uno de los desafíos que debes resolver como parte del equipo de soporte analítico: desde calcular estadísticas básicas, limpiar entradas de texto, hasta realizar predicciones sencillas con modelos lineales simulados."
      ],
      "metadata": {
        "id": "miMQKZv6MHrC"
      }
    },
    {
      "cell_type": "markdown",
      "source": [
        "\n",
        "\n",
        "**Nombre y Apellido:**\n",
        "Luis Daniel Alarcon Alcantara\n",
        "---"
      ],
      "metadata": {
        "id": "ivo0N7RXM0VM"
      }
    },
    {
      "cell_type": "markdown",
      "source": [
        "Duración: 45 minutos\n"
      ],
      "metadata": {
        "id": "5UN_MQy1M76N"
      }
    },
    {
      "cell_type": "markdown",
      "source": [
        "**Instrucciones**\n",
        "\n",
        "Puedes utilizar:\n",
        "\n",
        "- Definición de funciones (def)\n",
        "\n",
        "- Creación de clases (class)\n",
        "\n",
        "- Listas, strings, diccionarios, operadores, condicionales, bucles\n",
        "\n",
        "- Funciones integradas como sum(), len(), max(), min(), sorted()\n",
        "\n",
        "- No uses pandas, numpy, matplotlib, ni lectura de archivos.\n",
        "\n",
        "Se evaluará no solo la respuesta correcta, sino también la claridad del código, las buenas prácticas (nombres descriptivos, comentarios si es necesario), el uso adecuado de estructuras de datos y la lógica general."
      ],
      "metadata": {
        "id": "JXUtBQpVM_Da"
      }
    },
    {
      "cell_type": "markdown",
      "source": [
        "**Pregunta 1 – Estadística simple**"
      ],
      "metadata": {
        "id": "EpERA8PAN-wz"
      }
    },
    {
      "cell_type": "markdown",
      "source": [
        "Dado el siguiente conjunto de datos:\n",
        "```\n",
        "valores = [12, 17, 15, 21, 17, 18, 15, 19, 21, 17]\n",
        "```\n",
        "Escribe una función resumen_estadistico(lista) que retorne un diccionario con las siguientes claves:\n",
        "\n",
        "- \"promedio\": promedio de los valores\n",
        "\n",
        "- \"min\": valor mínimo\n",
        "\n",
        "- \"max\": valor máximo\n",
        "\n",
        "- \"moda\": valor que más veces se repite en la lista"
      ],
      "metadata": {
        "id": "guv8XWUSOBdx"
      }
    },
    {
      "cell_type": "code",
      "source": [
        "# Your code starts here\n",
        "def resumen_estadistico(lista):\n",
        "    # Calcular promedio\n",
        "    suma = 0\n",
        "    for valor in lista:\n",
        "        suma += valor\n",
        "    promedio = suma / len(lista)\n",
        "\n",
        "    # Calcular mínimo y máximo\n",
        "    minimo = lista[0]\n",
        "    maximo = lista[0]\n",
        "    for valor in lista:\n",
        "        if valor < minimo:\n",
        "            minimo = valor\n",
        "        if valor > maximo:\n",
        "            maximo = valor\n",
        "\n",
        "    # Calcular moda\n",
        "    frecuencias = {}\n",
        "    for valor in lista:\n",
        "        if valor in frecuencias:\n",
        "            frecuencias[valor] += 1\n",
        "        else:\n",
        "            frecuencias[valor] = 1\n",
        "\n",
        "    moda = max(frecuencias, key=frecuencias.get)\n",
        "\n",
        "    return {\n",
        "        \"promedio\": promedio,\n",
        "        \"min\": minimo,\n",
        "        \"max\": maximo,\n",
        "        \"moda\": moda\n",
        "    }\n",
        "\n",
        "# Probando la función\n",
        "valores = [12, 17, 15, 21, 17, 18, 15, 19, 21, 17]\n",
        "resultado = resumen_estadistico(valores)\n",
        "print(resultado)\n",
        "# Your code ends here"
      ],
      "metadata": {
        "colab": {
          "base_uri": "https://localhost:8080/"
        },
        "id": "2Q1QAEi2f_UG",
        "outputId": "13f9e060-330f-46e9-fc01-662e570cec48"
      },
      "execution_count": 40,
      "outputs": [
        {
          "output_type": "stream",
          "name": "stdout",
          "text": [
            "{'promedio': 17.2, 'min': 12, 'max': 21, 'moda': 17}\n"
          ]
        }
      ]
    },
    {
      "cell_type": "markdown",
      "source": [
        "**Pregunta 2 – Limpieza de texto**"
      ],
      "metadata": {
        "id": "3rV2t5cXOOve"
      }
    },
    {
      "cell_type": "markdown",
      "source": [
        "Tienes la siguiente lista con nombres ingresados de forma inconsistente:\n",
        "```\n",
        "nombres = [\" ana \", \"LUIS\", \"cAmila \", \"JORGE\", \" sofiA\"]\n",
        "```\n",
        "Crea una función normalizar_nombres(lista) que:\n",
        "\n",
        "- Elimine espacios adicionales al inicio o final de cada nombre\n",
        "\n",
        "- Convierta todos los nombres a formato título (por ejemplo: \"Camila\")\n",
        "\n",
        "Devuelve una nueva lista con los nombres normalizados."
      ],
      "metadata": {
        "id": "TLFj-jI-OYwu"
      }
    },
    {
      "cell_type": "code",
      "source": [
        "# Your code starts here\n",
        "def normalizar_nombres(lista):\n",
        "    nombres_normalizados = []\n",
        "    for nombre in lista:\n",
        "        nombre_clean = nombre.strip().title()\n",
        "        nombres_normalizados.append(nombre_clean)\n",
        "\n",
        "    return nombres_normalizados\n",
        "\n",
        "# Probar el código:\n",
        "nombres = [\" ana \", \"LUIS\", \"cAmila \", \"JORGE\", \" sofiA\"]\n",
        "nombres_clean = normalizar_nombres(nombres)\n",
        "print(f\"la lista limpia es la siguiente: {nombres_clean}\")\n",
        "\n",
        "# Your code ends here"
      ],
      "metadata": {
        "id": "Yeuwf3fWOftV",
        "colab": {
          "base_uri": "https://localhost:8080/"
        },
        "outputId": "3c38172c-6a65-4e9e-b4dd-88b657b7a2c0"
      },
      "execution_count": 57,
      "outputs": [
        {
          "output_type": "stream",
          "name": "stdout",
          "text": [
            "la lista limpia es la siguiente: ['Ana', 'Luis', 'Camila', 'Jorge', 'Sofia']\n"
          ]
        }
      ]
    },
    {
      "cell_type": "markdown",
      "source": [
        "**Pregunta 3 – Clasificador por edad**"
      ],
      "metadata": {
        "id": "qzum0ADEOk-a"
      }
    },
    {
      "cell_type": "markdown",
      "source": [
        "Crea una clase ClasificadorEdad con un atributo edad.\n",
        "La clase debe tener un método:\n",
        "\n",
        "clasificar() -> str\n",
        "Que devuelva según la edad:\n",
        "\n",
        "- \"Niño\" si es menor de 13\n",
        "\n",
        "- \"Adolescente\" si tiene entre 13 y 17 años\n",
        "\n",
        "- \"Adulto\" si tiene entre 18 y 59 años\n",
        "\n",
        "- \"Adulto mayor\" si tiene 60 o más"
      ],
      "metadata": {
        "id": "xS7revZCOoZ1"
      }
    },
    {
      "cell_type": "code",
      "source": [
        "# Your code starts here\n",
        "class ClasificadorEdad:\n",
        "    def __init__(self, edad):\n",
        "        self.edad = edad\n",
        "\n",
        "    def clasificar(self) -> str:\n",
        "        if self.edad < 13:\n",
        "            return \"Niño\"\n",
        "        elif 13 <= self.edad <= 17:\n",
        "            return \"Adolescente\"\n",
        "        elif 18 <= self.edad <= 59:\n",
        "            return \"Adulto\"\n",
        "        else:  # edad >= 60\n",
        "            return \"Adulto mayor\"\n",
        "\n",
        "#prueba de funcionamiento de código:\n",
        "persona1 = ClasificadorEdad(7)\n",
        "print(f\"Esta persona es un {persona1.clasificar()}\")  # Niño\n",
        "\n",
        "persona2 = ClasificadorEdad(14)\n",
        "print(f\"Esta persona es un {persona2.clasificar()}\")  # Adolescente\n",
        "\n",
        "persona3 = ClasificadorEdad(45)\n",
        "print(f\"Esta persona es un {persona3.clasificar()}\")  # Adulto\n",
        "\n",
        "persona4 = ClasificadorEdad(69)\n",
        "print(f\"Esta persona es un {persona4.clasificar()}\")  # Adulto mayor\n",
        "\n",
        "# Your code ends here"
      ],
      "metadata": {
        "id": "TEedziL-Oosu",
        "colab": {
          "base_uri": "https://localhost:8080/"
        },
        "outputId": "2287fb13-a42e-4774-9745-4eeb02767f05"
      },
      "execution_count": 48,
      "outputs": [
        {
          "output_type": "stream",
          "name": "stdout",
          "text": [
            "Esta persona es un Niño\n",
            "Esta persona es un Adolescente\n",
            "Esta persona es un Adulto\n",
            "Esta persona es un Adulto mayor\n"
          ]
        }
      ]
    },
    {
      "cell_type": "markdown",
      "source": [
        "**Pregunta 4 – Palabras clave en encuestas**"
      ],
      "metadata": {
        "id": "O7K1bCleO3du"
      }
    },
    {
      "cell_type": "markdown",
      "source": [
        "Tienes una lista con respuestas abiertas de una encuesta:\n",
        "```\n",
        "respuestas = [\n",
        "    \"Me gusta la visualización de datos\",\n",
        "    \"La estadística es clave\",\n",
        "    \"Aprender programación mejora la productividad\",\n",
        "    \"Los gráficos me ayudan a entender\"]\n",
        "```\n",
        "Crea una función contar_palabras_clave(respuestas: list, palabra: str) que:\n",
        "\n",
        "- Retorne cuántas frases contienen la palabra dada, sin importar mayúsculas o minúsculas.\n",
        "\n",
        "Ejemplo:\n",
        "contar_palabras_clave(respuestas, \"datos\") → 1\n",
        "\n"
      ],
      "metadata": {
        "id": "Y7kadRyfPBG_"
      }
    },
    {
      "cell_type": "code",
      "source": [
        "# Your code starts here\n",
        "def contar_palabras_clave(respuestas: list, palabra: str) -> int:\n",
        "    palabra = palabra.lower()\n",
        "    i = 0\n",
        "    for frase in respuestas:\n",
        "        if palabra in frase.lower():\n",
        "            i += 1\n",
        "    return i\n",
        "\n",
        "# Lista de respuestas abiertas a encuenta:\n",
        "respuestas = [\n",
        "    \"Me gusta la visualización de datos\",\n",
        "    \"La estadística es clave\",\n",
        "    \"Aprender programación mejora la productividad\",\n",
        "    \"Los gráficos me ayudan a entender\"\n",
        "]\n",
        "\n",
        "# Prueba de su uso\n",
        "print(\"las veces donde se repite la palabra -datos- es  :\",(contar_palabras_clave(respuestas, \"datos\")))\n",
        "print(\"las veces donde se repite la palabra -la- es  :\",contar_palabras_clave(respuestas, \"la\"))\n",
        "\n",
        "# Your code ends here"
      ],
      "metadata": {
        "id": "4WP3pEgvOuMd",
        "colab": {
          "base_uri": "https://localhost:8080/"
        },
        "outputId": "f0ce8c74-232e-499c-f145-cedc8df3db9e"
      },
      "execution_count": 59,
      "outputs": [
        {
          "output_type": "stream",
          "name": "stdout",
          "text": [
            "las veces donde se repite la palabra -datos- es  : 1\n",
            "las veces donde se repite la palabra -la- es  : 3\n"
          ]
        }
      ]
    },
    {
      "cell_type": "markdown",
      "source": [
        "**Pregunta 5 – Validación de códigos de experimento**"
      ],
      "metadata": {
        "id": "MdencFSGPmo1"
      }
    },
    {
      "cell_type": "markdown",
      "source": [
        "Tienes una lista con códigos de experimento ingresados por diferentes usuarios:\n",
        "\n",
        "```\n",
        "codigos = [\"EXP2023A\", \"EXP_23\", \"EXPERIMENTO_2023\", \"exp2023b\"]\n",
        "```\n",
        "\n",
        "Crea una función validar_codigos(lista) que retorne una nueva lista con los códigos válidos, donde:\n",
        "\n",
        "- Empiecen por \"EXP\" (en mayúsculas)\n",
        "\n",
        "- Tengan exactamente 8 caracteres"
      ],
      "metadata": {
        "id": "KBMve8sQPp8J"
      }
    },
    {
      "cell_type": "code",
      "source": [
        "# Your code starts here\n",
        "def validar_codigos(lista):\n",
        "    codigos_validos = []\n",
        "    for codigo in lista:\n",
        "        if codigo.startswith(\"EXP\") and len(codigo) == 8:\n",
        "            codigos_validos.append(codigo)\n",
        "    return codigos_validos\n",
        "\n",
        "# Lista de códigos\n",
        "codigos = [\"EXP2023A\", \"EXP_23\", \"EXPERIMENTO_2023\", \"exp2023b\"]\n",
        "\n",
        "# Prueba\n",
        "print(validar_codigos(codigos))  # Resultado esperado: ['EXP2023A']\n",
        "\n",
        "# Your code ends here"
      ],
      "metadata": {
        "id": "SUaTp_yjO24X",
        "colab": {
          "base_uri": "https://localhost:8080/"
        },
        "outputId": "df58ae16-a73a-45bd-88ae-687356f58311"
      },
      "execution_count": 29,
      "outputs": [
        {
          "output_type": "stream",
          "name": "stdout",
          "text": [
            "['EXP2023A']\n"
          ]
        }
      ]
    },
    {
      "cell_type": "markdown",
      "source": [
        "**Pregunta 6 – Modelo lineal simple**"
      ],
      "metadata": {
        "id": "U3NjngoxPyv9"
      }
    },
    {
      "cell_type": "markdown",
      "source": [
        "Crea una clase ModeloLineal que simule un modelo de regresión con fórmula:\n",
        "```\n",
        "y = m * x + b\n",
        "```\n",
        "\n",
        "La clase debe tener:\n",
        "\n",
        "Atributos: m (pendiente), b (intercepto)\n",
        "\n",
        "\n",
        "Método predecir(x) que:\n",
        "\n",
        "- Si x es un número, devuelve la predicción correspondiente\n",
        "\n",
        "- Si x es una lista de números, devuelve una lista de predicciones\n",
        "\n",
        "\n",
        "Ejemplo:\n",
        "```\n",
        "modelo = ModeloLineal(2, 3)\n",
        "modelo.predecir([1, 2, 3])  #debe retornar [5, 7, 9]\n",
        "```"
      ],
      "metadata": {
        "id": "_N3vpCZkP1sr"
      }
    },
    {
      "cell_type": "code",
      "source": [
        "# Your code starts here\n",
        "class ModeloLineal:\n",
        "    def __init__(self, m, b):\n",
        "        self.m = m  # pendiente\n",
        "        self.b = b  # intercepto\n",
        "\n",
        "    def predecir(self, x):\n",
        "        if type(x) == int or type(x) == float:\n",
        "            return self.m * x + self.b\n",
        "        elif type(x) == list:\n",
        "            return [self.m * valor + self.b for valor in x]\n",
        "        else:\n",
        "            return 0  # Valor por defecto si el tipo no es válido\n",
        "\n",
        "# Ejemplo de uso\n",
        "modelo = ModeloLineal(2, 3)\n",
        "\n",
        "entrada = input(\"Introduce una lista de números separados por comas: \")\n",
        "lista_numeros = [float(num.strip()) for num in entrada.split(',')]\n",
        "resultado = modelo.predecir(lista_numeros)\n",
        "print(\"Resultado:\", resultado)\n",
        "\n",
        "# Your code ends here"
      ],
      "metadata": {
        "id": "18nXnIMEQhKS",
        "colab": {
          "base_uri": "https://localhost:8080/"
        },
        "outputId": "dd6703bf-d9b1-43ff-fa80-1a81f7bb7a02"
      },
      "execution_count": 61,
      "outputs": [
        {
          "output_type": "stream",
          "name": "stdout",
          "text": [
            "Introduce una lista de números separados por comas: 1,10,20\n",
            "Resultado: [5.0, 23.0, 43.0]\n"
          ]
        }
      ]
    },
    {
      "cell_type": "markdown",
      "source": [
        "---\n",
        "\n",
        "### Gracias por completar este examen!\n",
        "\n",
        "---\n"
      ],
      "metadata": {
        "id": "LtljlM9cQkiT"
      }
    }
  ]
}