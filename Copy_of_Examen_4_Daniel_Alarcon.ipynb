{
  "nbformat": 4,
  "nbformat_minor": 0,
  "metadata": {
    "colab": {
      "provenance": [],
      "authorship_tag": "ABX9TyOAdmk47vJpujScWpRSLba2",
      "include_colab_link": true
    },
    "kernelspec": {
      "name": "python3",
      "display_name": "Python 3"
    },
    "language_info": {
      "name": "python"
    }
  },
  "cells": [
    {
      "cell_type": "markdown",
      "metadata": {
        "id": "view-in-github",
        "colab_type": "text"
      },
      "source": [
        "<a href=\"https://colab.research.google.com/github/danielutec/2025_UTEC_PROGRAM_101/blob/main/Copy_of_Examen_4_Daniel_Alarcon.ipynb\" target=\"_parent\"><img src=\"https://colab.research.google.com/assets/colab-badge.svg\" alt=\"Open In Colab\"/></a>"
      ]
    },
    {
      "cell_type": "markdown",
      "source": [
        "Examen 4 - Pandas\n",
        "Duración: 60 minutos Instrucciones: Responde las siguientes preguntas y resuelve los problemas propuestos. Asegúrate de leer cuidadosamente cada pregunta y mostrar tus razonamientos y cálculos cuando sea necesario. Dataset principal:\n",
        "\n",
        "diabetes.csv (descargable de: https://www.kaggle.com/datasets/uciml/pima-indians-diabetes-database)\n",
        "\n",
        "Nombre y Apellido: Luis Daniel Alarcon Alcantara"
      ],
      "metadata": {
        "id": "yVa7GHX_q19F"
      }
    },
    {
      "cell_type": "markdown",
      "source": [
        "Pregunta 1:\n",
        "1. Carga diabetes.csv en un DataFrame df_diabetes.\n",
        "2. Muestra las 5 primeras filas.\n",
        "3. Imprime el número total de filas, columnas y el tipo de cada columna.\n",
        "4. Convierte la columna Outcome a tipo categórico y verifica el cambio imprimiendo la información del DataFrame (df_diabetes.info())."
      ],
      "metadata": {
        "id": "Bc1jgSWWrLBm"
      }
    },
    {
      "cell_type": "code",
      "source": [
        "import pandas as pd\n",
        "\n",
        "# 1. Carga diabetes.csv en un DataFrame df_diabetes.\n",
        "print(\"\\n\\033[1m\\033[34mDataframe df_diabetes:\\033[0m\")\n",
        "df_diabetes = pd.read_csv('diabetes.csv')\n",
        "print(df_diabetes)\n",
        "\n",
        "# 2. Muestra las 5 primeras filas.\n",
        "print(\"\\n\\033[1m\\033[34mCinco primeras filas del dataframe:\\033[0m\")\n",
        "print(df_diabetes.iloc[:5, :])\n",
        "\n",
        "# 3. Imprime el número total de filas, columnas y el tipo de cada columna.\n",
        "print(\"\\n\\033[1m\\033[34mInformacion del dataframe:\\033[0m\")\n",
        "print(df_diabetes.info())\n",
        "\n",
        "# 4. Convierte la columna Outcome a tipo categórico y verifica el cambio imprimiendo la información del DataFrame (df_diabetes.info()).\n",
        "df_diabetes['Outcome'] = df_diabetes['Outcome'].astype('category')\n",
        "print(\"\\n\\033[1m\\033[34mVerificar conversion de la columna Outcome del dataframe:\\033[0m\")\n",
        "print(df_diabetes.dtypes)"
      ],
      "metadata": {
        "colab": {
          "base_uri": "https://localhost:8080/"
        },
        "id": "-NEW-K9yrwD3",
        "outputId": "e25f8f4c-cd3c-45a7-dd04-56a5fe60a7bf"
      },
      "execution_count": null,
      "outputs": [
        {
          "output_type": "stream",
          "name": "stdout",
          "text": [
            "\n",
            "\u001b[1m\u001b[34mDataframe:\u001b[0m\n",
            "     Pregnancies  Glucose  BloodPressure  SkinThickness  Insulin   BMI  \\\n",
            "0              6      148             72             35        0  33.6   \n",
            "1              1       85             66             29        0  26.6   \n",
            "2              8      183             64              0        0  23.3   \n",
            "3              1       89             66             23       94  28.1   \n",
            "4              0      137             40             35      168  43.1   \n",
            "..           ...      ...            ...            ...      ...   ...   \n",
            "763           10      101             76             48      180  32.9   \n",
            "764            2      122             70             27        0  36.8   \n",
            "765            5      121             72             23      112  26.2   \n",
            "766            1      126             60              0        0  30.1   \n",
            "767            1       93             70             31        0  30.4   \n",
            "\n",
            "     DiabetesPedigreeFunction  Age  Outcome  \n",
            "0                       0.627   50        1  \n",
            "1                       0.351   31        0  \n",
            "2                       0.672   32        1  \n",
            "3                       0.167   21        0  \n",
            "4                       2.288   33        1  \n",
            "..                        ...  ...      ...  \n",
            "763                     0.171   63        0  \n",
            "764                     0.340   27        0  \n",
            "765                     0.245   30        0  \n",
            "766                     0.349   47        1  \n",
            "767                     0.315   23        0  \n",
            "\n",
            "[768 rows x 9 columns]\n",
            "\n",
            "\u001b[1m\u001b[34mCinco primeras filas del dataframe:\u001b[0m\n",
            "   Pregnancies  Glucose  BloodPressure  SkinThickness  Insulin   BMI  \\\n",
            "0            6      148             72             35        0  33.6   \n",
            "1            1       85             66             29        0  26.6   \n",
            "2            8      183             64              0        0  23.3   \n",
            "3            1       89             66             23       94  28.1   \n",
            "4            0      137             40             35      168  43.1   \n",
            "\n",
            "   DiabetesPedigreeFunction  Age  Outcome  \n",
            "0                     0.627   50        1  \n",
            "1                     0.351   31        0  \n",
            "2                     0.672   32        1  \n",
            "3                     0.167   21        0  \n",
            "4                     2.288   33        1  \n",
            "\n",
            "\u001b[1m\u001b[34mInformacion del dataframe:\u001b[0m\n",
            "<class 'pandas.core.frame.DataFrame'>\n",
            "RangeIndex: 768 entries, 0 to 767\n",
            "Data columns (total 9 columns):\n",
            " #   Column                    Non-Null Count  Dtype  \n",
            "---  ------                    --------------  -----  \n",
            " 0   Pregnancies               768 non-null    int64  \n",
            " 1   Glucose                   768 non-null    int64  \n",
            " 2   BloodPressure             768 non-null    int64  \n",
            " 3   SkinThickness             768 non-null    int64  \n",
            " 4   Insulin                   768 non-null    int64  \n",
            " 5   BMI                       768 non-null    float64\n",
            " 6   DiabetesPedigreeFunction  768 non-null    float64\n",
            " 7   Age                       768 non-null    int64  \n",
            " 8   Outcome                   768 non-null    int64  \n",
            "dtypes: float64(2), int64(7)\n",
            "memory usage: 54.1 KB\n",
            "None\n",
            "\n",
            "\u001b[1m\u001b[34mVerificar conversion de la columna Outcome del dataframe:\u001b[0m\n",
            "Pregnancies                    int64\n",
            "Glucose                        int64\n",
            "BloodPressure                  int64\n",
            "SkinThickness                  int64\n",
            "Insulin                        int64\n",
            "BMI                          float64\n",
            "DiabetesPedigreeFunction     float64\n",
            "Age                            int64\n",
            "Outcome                     category\n",
            "dtype: object\n"
          ]
        }
      ]
    },
    {
      "cell_type": "markdown",
      "source": [
        "Pregunta 2:\n",
        "\n",
        "1. Crea un DataFrame df_filtrado con todas las filas de df_diabetes donde Glucose > 120.\n",
        "2. Agrega a df_filtrado una columna BMI_Category que clasifique el BMI así:\n",
        "\n",
        "\n",
        "○ \"Bajo\" si BMI < 18.5\n",
        "\n",
        "○ \"Normal\" si 18.5 ≤ BMI < 25\n",
        "\n",
        "○ \"Sobrepeso\" si 25 ≤ BMI < 30\n",
        "\n",
        "○ \"Obeso\" si BMI ≥ 30\n",
        "\n",
        "\n",
        "3. Muestra las primeras 5 filas de df_filtrado con la nueva columna incluida."
      ],
      "metadata": {
        "id": "ZJ7Y8zAryABD"
      }
    },
    {
      "cell_type": "code",
      "source": [
        "# Crea un DataFrame df_filtrado con todas las filas de df_diabetes donde Glucose > 120.\n",
        "df_filtrado = df_diabetes[df_diabetes['Glucose'] > 120]\n",
        "print(\"\\n\\033[1m\\033[34mDataFrame filtrado para Glucose >120\\033[0m\")\n",
        "print(df_filtrado)\n",
        "\n",
        "# Agrega a df_filtrado una columna BMI_Category que clasifique el BMI así: \"Bajo\" si BMI < 18.5 \"Normal\" si 18.5 ≤ BMI < 25 \"Sobrepeso\" si 25 ≤ BMI < 30 \"Obeso\" si BMI ≥ 30\n",
        "\n",
        "def clasificar_bmi(bmi): # Función para clasificar el BMI\n",
        "    if bmi < 18.5:\n",
        "        return 'Bajo'\n",
        "    elif 18.5 <= bmi < 25:\n",
        "        return 'Normal'\n",
        "    elif 25 <= bmi < 30:\n",
        "        return 'Sobrepeso'\n",
        "    else:\n",
        "        return 'Obeso'\n",
        "\n",
        "df_filtrado['BMI_Category'] = df_filtrado['BMI'].apply(clasificar_bmi)# Agregar la nueva columna BMI_Category\n",
        "\n",
        "# Muestra las primeras 5 filas de df_filtrado con la nueva columna incluida.\n",
        "print(\"\\n\\033[1m\\033[34mCinco primeras filas del df_filtrado con la columna BMI Category agregada:\\033[0m\")\n",
        "pd.set_option('display.max_columns', None)\n",
        "print(df_filtrado.iloc[:5, :])"
      ],
      "metadata": {
        "colab": {
          "base_uri": "https://localhost:8080/"
        },
        "id": "s506hlmXwq-V",
        "outputId": "d7737329-b0de-40d1-9cdd-58aeff05f469"
      },
      "execution_count": null,
      "outputs": [
        {
          "output_type": "stream",
          "name": "stdout",
          "text": [
            "\n",
            "\u001b[1m\u001b[34mDataFrame filtrado para Glucose >120\u001b[0m\n",
            "     Pregnancies  Glucose  BloodPressure  SkinThickness  Insulin   BMI  \\\n",
            "0              6      148             72             35        0  33.6   \n",
            "2              8      183             64              0        0  23.3   \n",
            "4              0      137             40             35      168  43.1   \n",
            "8              2      197             70             45      543  30.5   \n",
            "9              8      125             96              0        0   0.0   \n",
            "..           ...      ...            ...            ...      ...   ...   \n",
            "759            6      190             92              0        0  35.5   \n",
            "761            9      170             74             31        0  44.0   \n",
            "764            2      122             70             27        0  36.8   \n",
            "765            5      121             72             23      112  26.2   \n",
            "766            1      126             60              0        0  30.1   \n",
            "\n",
            "     DiabetesPedigreeFunction  Age Outcome  \n",
            "0                       0.627   50       1  \n",
            "2                       0.672   32       1  \n",
            "4                       2.288   33       1  \n",
            "8                       0.158   53       1  \n",
            "9                       0.232   54       1  \n",
            "..                        ...  ...     ...  \n",
            "759                     0.278   66       1  \n",
            "761                     0.403   43       1  \n",
            "764                     0.340   27       0  \n",
            "765                     0.245   30       0  \n",
            "766                     0.349   47       1  \n",
            "\n",
            "[349 rows x 9 columns]\n",
            "\n",
            "\u001b[1m\u001b[34mCinco primeras filas del df_filtrado con la columna BMI Category agregada:\u001b[0m\n",
            "   Pregnancies  Glucose  BloodPressure  SkinThickness  Insulin   BMI  \\\n",
            "0            6      148             72             35        0  33.6   \n",
            "2            8      183             64              0        0  23.3   \n",
            "4            0      137             40             35      168  43.1   \n",
            "8            2      197             70             45      543  30.5   \n",
            "9            8      125             96              0        0   0.0   \n",
            "\n",
            "   DiabetesPedigreeFunction  Age Outcome BMI_Category  \n",
            "0                     0.627   50       1        Obeso  \n",
            "2                     0.672   32       1       Normal  \n",
            "4                     2.288   33       1        Obeso  \n",
            "8                     0.158   53       1        Obeso  \n",
            "9                     0.232   54       1         Bajo  \n"
          ]
        },
        {
          "output_type": "stream",
          "name": "stderr",
          "text": [
            "/tmp/ipython-input-38-580300760.py:18: SettingWithCopyWarning: \n",
            "A value is trying to be set on a copy of a slice from a DataFrame.\n",
            "Try using .loc[row_indexer,col_indexer] = value instead\n",
            "\n",
            "See the caveats in the documentation: https://pandas.pydata.org/pandas-docs/stable/user_guide/indexing.html#returning-a-view-versus-a-copy\n",
            "  df_filtrado['BMI_Category'] = df_filtrado['BMI'].apply(clasificar_bmi)# Agregar la nueva columna BMI_Category\n"
          ]
        }
      ]
    },
    {
      "cell_type": "markdown",
      "source": [
        "Pregunta 3:\n",
        "\n",
        "1. Carga age_groups.csv en un DataFrame df_age_groups.\n",
        "2. Haz un merge de df_diabetes con df_age_groups por la columna Age. El resultado se llamará df_combinado. Debe ser un left merge para mantener todas las filas de df_diabetes.\n",
        "3. Muestra las 5 primeras filas de df_combinado para verificar que la columna AgeGroup se haya agregado correctamente."
      ],
      "metadata": {
        "id": "sKB-3irK25mZ"
      }
    },
    {
      "cell_type": "code",
      "source": [
        "# 1. Carga agegroups.csv en un DataFrame df_age_groups.\n",
        "print(\"\\n\\033[1m\\033[34mDataframe df_age_groups:\\033[0m\")\n",
        "df_age_groups = pd.read_csv('age_groups.csv')\n",
        "print(df_age_groups)\n",
        "\n",
        "# 2. Haz un merge de df_diabetes con df_age_groups por la columna Age\n",
        "# El resultado se llamará df_combinado. Debe ser un left merge para mantener todas las filas de df_diabetes.\n",
        "\n",
        "df_combinado = pd.merge(df_diabetes, df_age_groups, on='Age', how='left')\n",
        "\n",
        "# 3. Muestra las 5 primeras filas de df_combinado para verificar que la columna AgeGroup se haya agregado correctamente.\n",
        "print(\"\\n\\033[1m\\033[34mCinco primeras filas del df_combinado con la columna AgeGroup agregada:\\033[0m\")\n",
        "pd.set_option('display.max_columns', None)\n",
        "print(df_combinado.iloc[:5, :])"
      ],
      "metadata": {
        "colab": {
          "base_uri": "https://localhost:8080/"
        },
        "id": "jAjCOuZ-2-54",
        "outputId": "885c2635-5dc0-40ca-e4f9-fcc2d2606ce5"
      },
      "execution_count": null,
      "outputs": [
        {
          "output_type": "stream",
          "name": "stdout",
          "text": [
            "\n",
            "\u001b[1m\u001b[34mDataframe df_age_groups:\u001b[0m\n",
            "    Age      AgeGroup\n",
            "0    50        Adulto\n",
            "1    31        Adulto\n",
            "2    32        Adulto\n",
            "3    21         Joven\n",
            "4    33        Adulto\n",
            "5    30         Joven\n",
            "6    26         Joven\n",
            "7    29         Joven\n",
            "8    53  Adulto_Mayor\n",
            "9    54  Adulto_Mayor\n",
            "10   34        Adulto\n",
            "11   57  Adulto_Mayor\n",
            "12   59  Adulto_Mayor\n",
            "13   51  Adulto_Mayor\n",
            "14   27         Joven\n",
            "15   41        Adulto\n",
            "16   43        Adulto\n",
            "17   22         Joven\n",
            "18   38        Adulto\n",
            "19   60  Adulto_Mayor\n",
            "20   28         Joven\n",
            "21   45        Adulto\n",
            "22   35        Adulto\n",
            "23   46        Adulto\n",
            "24   56  Adulto_Mayor\n",
            "25   37        Adulto\n",
            "26   48        Adulto\n",
            "27   40        Adulto\n",
            "28   25         Joven\n",
            "29   24         Joven\n",
            "30   58  Adulto_Mayor\n",
            "31   42        Adulto\n",
            "32   44        Adulto\n",
            "33   39        Adulto\n",
            "34   36        Adulto\n",
            "35   23         Joven\n",
            "36   61  Adulto_Mayor\n",
            "37   69  Adulto_Mayor\n",
            "38   62  Adulto_Mayor\n",
            "39   55  Adulto_Mayor\n",
            "40   65  Adulto_Mayor\n",
            "41   47        Adulto\n",
            "42   52  Adulto_Mayor\n",
            "43   66  Adulto_Mayor\n",
            "44   49        Adulto\n",
            "45   63  Adulto_Mayor\n",
            "46   67  Adulto_Mayor\n",
            "47   72  Adulto_Mayor\n",
            "48   81  Adulto_Mayor\n",
            "49   64  Adulto_Mayor\n",
            "50   70  Adulto_Mayor\n",
            "51   68  Adulto_Mayor\n",
            "\n",
            "\u001b[1m\u001b[34mCinco primeras filas del df_combinado con la columna AgeGroup agregada:\u001b[0m\n",
            "   Pregnancies  Glucose  BloodPressure  SkinThickness  Insulin   BMI  \\\n",
            "0            6      148             72             35        0  33.6   \n",
            "1            1       85             66             29        0  26.6   \n",
            "2            8      183             64              0        0  23.3   \n",
            "3            1       89             66             23       94  28.1   \n",
            "4            0      137             40             35      168  43.1   \n",
            "\n",
            "   DiabetesPedigreeFunction  Age Outcome AgeGroup  \n",
            "0                     0.627   50       1   Adulto  \n",
            "1                     0.351   31       0   Adulto  \n",
            "2                     0.672   32       1   Adulto  \n",
            "3                     0.167   21       0    Joven  \n",
            "4                     2.288   33       1   Adulto  \n"
          ]
        }
      ]
    },
    {
      "cell_type": "markdown",
      "source": [
        "Pregunta 4:\n",
        "\n",
        "1. Agrupa df_combinado por AgeGroup.\n",
        "2. Calcula el promedio de Glucose y el promedio de BMI para cada grupo de edad.\n",
        "3. Ordena el resultado por el promedio de Glucose de mayor a menor.\n",
        "4. Muestra el DataFrame resultante."
      ],
      "metadata": {
        "id": "USxQMHgR4wEp"
      }
    },
    {
      "cell_type": "code",
      "source": [
        "# Agrupa df_combinado por AgeGroup.\n",
        "grupo_por_agegroup = df_combinado.groupby('AgeGroup')\n",
        "\n",
        "# Calcula el promedio de Glucose y el promedio de BMI para cada grupo de edad.\n",
        "promedio_glucose = grupo_por_agegroup['Glucose'].mean()\n",
        "promedio_bmi = grupo_por_agegroup['BMI'].mean()\n",
        "\n",
        "# Ordena el resultado por el promedio de Glucose de mayor a menor.\n",
        "df_resultado = pd.DataFrame({'Promedio Glucose': promedio_glucose, 'Promedio BMI': promedio_bmi})\n",
        "df_resultado = df_resultado.sort_values(by='Promedio Glucose', ascending=False)\n",
        "\n",
        "# Muestra el DataFrame resultante.\n",
        "print(\"\\n\\033[1m\\033[34mDataFrame resultante:\\033[0m\")\n",
        "print(df_resultado)\n"
      ],
      "metadata": {
        "colab": {
          "base_uri": "https://localhost:8080/"
        },
        "id": "EzFfcRmE4tQD",
        "outputId": "6b381d95-18bf-4c26-e733-8d6478a3682c"
      },
      "execution_count": null,
      "outputs": [
        {
          "output_type": "stream",
          "name": "stdout",
          "text": [
            "\n",
            "\u001b[1m\u001b[34mDataFrame resultante:\u001b[0m\n",
            "              Promedio Glucose  Promedio BMI\n",
            "AgeGroup                                    \n",
            "Adulto_Mayor        139.679012     30.211111\n",
            "Adulto              125.637037     33.562593\n",
            "Joven               114.175060     31.322062\n"
          ]
        }
      ]
    },
    {
      "cell_type": "markdown",
      "source": [
        "Pregunta 5:\n",
        "\n",
        "1. A partir de df_combinado, filtra las filas donde AgeGroup = \"Adulto\" y Outcome = 1 (casos positivos de diabetes en adultos).\n",
        "2. De este subconjunto, selecciona los 5 registros con el mayor valor de BMI.\n",
        "3. Muestra únicamente las columnas Age, Glucose, BMI, DiabetesPedigreeFunction, ordenadas por BMI de mayor a menor."
      ],
      "metadata": {
        "id": "_oWmOLIt54na"
      }
    },
    {
      "cell_type": "code",
      "source": [
        "# A partir de df_combinado, filtra las filas donde AgeGroup = \"Adulto\" y Outcome = 1 (casos positivos de diabetes en adultos).\n",
        "df_adultos_positivos = df_combinado[(df_combinado['AgeGroup'] == 'Adulto') & (df_combinado['Outcome'] == 1)]\n",
        "\n",
        "# De este subconjunto, selecciona los 5 registros con el mayor valor de BMI.\n",
        "df_top_bmi = df_adultos_positivos.nlargest(5, 'BMI')\n",
        "\n",
        "# Muestra únicamente las columnas Age, Glucose, BMI, DiabetesPedigreeFunction, ordenadas por BMI de mayor a menor.\n",
        "df_resultado = df_top_bmi[['Age', 'Glucose', 'BMI', 'DiabetesPedigreeFunction']]\n",
        "df_resultado = df_resultado.sort_values(by='BMI', ascending=False)\n",
        "print(\"\\n\\033[1m\\033[34mDataFrame resultante:\\033[0m\")\n",
        "print(df_resultado)"
      ],
      "metadata": {
        "colab": {
          "base_uri": "https://localhost:8080/"
        },
        "id": "bwjdIpzV56q0",
        "outputId": "72a292b1-c71f-49bb-ef35-e6876557df52"
      },
      "execution_count": null,
      "outputs": [
        {
          "output_type": "stream",
          "name": "stdout",
          "text": [
            "\n",
            "\u001b[1m\u001b[34mDataFrame resultante:\u001b[0m\n",
            "     Age  Glucose   BMI  DiabetesPedigreeFunction\n",
            "193   40      135  52.3                     0.578\n",
            "155   36      152  50.0                     0.337\n",
            "99    31      122  49.7                     0.325\n",
            "84    37      137  48.8                     0.227\n",
            "378   32      156  48.3                     0.238\n"
          ]
        }
      ]
    },
    {
      "cell_type": "markdown",
      "source": [
        "Pregunta 6:\n",
        "\n",
        "1. Usando df_combinado, crea una tabla pivote que tenga:\n",
        "\n",
        "○ Índice: AgeGroup\n",
        "\n",
        "○ Columnas: Outcome\n",
        "\n",
        "○ Valores: promedio de Glucose y BMI\n",
        "\n",
        "2. La pivot table debe mostrar el promedio de Glucose y BMI por combinación de AgeGroup y Outcome.\n",
        "3. De la tabla resultante, filtra y muestra únicamente las filas (AgeGroups) donde el promedio de BMI para cualquiera de los valores de Outcome sea mayor a 30."
      ],
      "metadata": {
        "id": "h-cWssqO6Y9i"
      }
    },
    {
      "cell_type": "code",
      "source": [
        "# Usando df_combinado, crea una tabla pivote que tenga\n",
        "\n",
        "print(\"\\n\\033[1m\\033[34mTabla pivote:\\033[0m\")\n",
        "tabla_pivote = df_combinado.pivot_table(     # Crear la tabla pivote\n",
        "    index='AgeGroup',\n",
        "    columns='Outcome',\n",
        "    values=['Glucose', 'BMI'],\n",
        "    aggfunc='mean'                          # Función de agregación: promedio\n",
        ")\n",
        "# Mostrar la tabla pivote\n",
        "print(tabla_pivote)\n",
        "\n",
        "# De la tabla resultante, filtra y muestra únicamente las filas (AgeGroups) donde el promedio de BMI para cualquiera de los valores de Outcome sea mayor a 30.\n",
        "tabla_filtrada = tabla_pivote.loc[ (tabla_pivote[('BMI', 0)] > 30) & (tabla_pivote[('BMI', 1)] > 30)]\n",
        "# Mostrar la tabla filtrada\n",
        "print(\"\\n\\033[1m\\033[34mTabla filtrada:\\033[0m\")\n",
        "print(tabla_filtrada)\n",
        "\n"
      ],
      "metadata": {
        "colab": {
          "base_uri": "https://localhost:8080/"
        },
        "id": "Sbwdd7Jw6be6",
        "outputId": "22190e3c-23a8-4dcf-8284-7c8cabcf9f79"
      },
      "execution_count": null,
      "outputs": [
        {
          "output_type": "stream",
          "name": "stdout",
          "text": [
            "\n",
            "\u001b[1m\u001b[34mTabla pivote:\u001b[0m\n",
            "                    BMI                Glucose            \n",
            "Outcome               0          1           0           1\n",
            "AgeGroup                                                  \n",
            "Adulto        31.923077  35.085000  111.830769  138.457143\n",
            "Adulto_Mayor  28.413953  32.244737  127.209302  153.789474\n",
            "Joven         29.909174  36.455556  106.978593  140.322222\n",
            "\n",
            "\u001b[1m\u001b[34mTabla filtrada:\u001b[0m\n",
            "                BMI             Glucose            \n",
            "Outcome           0       1           0           1\n",
            "AgeGroup                                           \n",
            "Adulto    31.923077  35.085  111.830769  138.457143\n"
          ]
        },
        {
          "output_type": "stream",
          "name": "stderr",
          "text": [
            "/tmp/ipython-input-52-4144944539.py:4: FutureWarning: The default value of observed=False is deprecated and will change to observed=True in a future version of pandas. Specify observed=False to silence this warning and retain the current behavior\n",
            "  tabla_pivote = df_combinado.pivot_table(     # Crear la tabla pivote\n"
          ]
        }
      ]
    }
  ]
}